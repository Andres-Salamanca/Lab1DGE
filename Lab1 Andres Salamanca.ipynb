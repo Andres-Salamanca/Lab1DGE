{
 "cells": [
  {
   "cell_type": "markdown",
   "id": "d6af3d4b-01ae-4f0d-9073-26c3ac652385",
   "metadata": {},
   "source": [
    "# Membrete"
   ]
  },
  {
   "cell_type": "markdown",
   "id": "67b34c35-ef8a-487c-8421-5362831c76b4",
   "metadata": {},
   "source": [
    "<code>Nombre:</code> Andres Salamanca \n",
    "\n",
    "<code>Curso:</code> Procesamiento de datos a gran escala\n",
    "\n",
    "<code>semestre:</code> 7"
   ]
  },
  {
   "cell_type": "markdown",
   "id": "760bf2a5-5bbb-4364-a78a-d0872ca674d8",
   "metadata": {},
   "source": [
    "# Cadenas "
   ]
  },
  {
   "cell_type": "markdown",
   "id": "6ec739b0-266d-48a5-a864-e78d706dd0e7",
   "metadata": {},
   "source": [
    "**pregunta1** ¿Cual es el valor de la variable <code>A</code> después de ejecutar el siguiente código?"
   ]
  },
  {
   "cell_type": "code",
   "execution_count": 1,
   "id": "adb78552-c454-4729-a46a-a14d56c5de9d",
   "metadata": {},
   "outputs": [],
   "source": [
    "# Escribe abajo tu código y presiona Shift+Enter para ejecutarlo\n",
    "\n",
    "A = \"1\""
   ]
  },
  {
   "cell_type": "markdown",
   "id": "52fdd9aa-5655-4f4b-a180-93e26e33c41c",
   "metadata": {},
   "source": [
    "<code>Respuesta:</code> El valor de la variable A es de \"1\""
   ]
  },
  {
   "cell_type": "markdown",
   "id": "e81d09a6-ccc2-48c9-bae0-b93dfaf060d9",
   "metadata": {},
   "source": [
    "**pregunta2** ¿Cual es el valor de la variable <code>B</code> después de ejecutar el siguiente código?"
   ]
  },
  {
   "cell_type": "code",
   "execution_count": 2,
   "id": "609a3862-72b5-48ee-b9f5-c720786feb57",
   "metadata": {},
   "outputs": [],
   "source": [
    "# Escribe abajo tu código y presiona Shift+Enter para ejecutarlo\n",
    "\n",
    "B = \"2\""
   ]
  },
  {
   "cell_type": "markdown",
   "id": "0a1a7eb8-56d1-4f68-a77f-5d4135003bdc",
   "metadata": {},
   "source": [
    "<code>Respuesta:</code>"
   ]
  },
  {
   "cell_type": "markdown",
   "id": "8cfba5f2-3469-46f5-9a88-0d4cf93d68a7",
   "metadata": {},
   "source": [
    "El valor de la variable B es de \"2\""
   ]
  },
  {
   "cell_type": "markdown",
   "id": "9c65bd17-1214-458d-9bae-b3e8f1bea036",
   "metadata": {},
   "source": [
    "**pregunta3** ¿Cual es el valor de la variable <code>C</code> después de ejecutar el siguiente código?"
   ]
  },
  {
   "cell_type": "code",
   "execution_count": 4,
   "id": "b7b8dbac-dcec-44fe-a329-e5244d4157f5",
   "metadata": {},
   "outputs": [],
   "source": [
    "# Escribe abajo tu código y presiona Shift+Enter para ejecutarlo\n",
    "\n",
    "C = A + B # los string hicieron append"
   ]
  },
  {
   "cell_type": "markdown",
   "id": "8df645b8-24dc-4a61-b4ad-79f5432c53fa",
   "metadata": {},
   "source": [
    "<code>Respuesta:</code>"
   ]
  },
  {
   "cell_type": "markdown",
   "id": "56c77dce-9a62-40d3-b818-26882e77928d",
   "metadata": {},
   "source": [
    "El valor de la variable C es de \"12\""
   ]
  },
  {
   "cell_type": "markdown",
   "id": "04180e6a-9401-425f-b9c9-16829ca99677",
   "metadata": {},
   "source": [
    "**pregunta4** En la variable <code>D</code> haz uso del slicing para imprimir solo los primeros tres elementos:"
   ]
  },
  {
   "cell_type": "code",
   "execution_count": 5,
   "id": "4e4ca763-55f6-4052-8147-1ccf75c25ce1",
   "metadata": {},
   "outputs": [],
   "source": [
    "# Escribe abajo tu código y presiona Shift+Enter para ejecutarlo\n",
    "\n",
    "D = \"ABCDEFG\""
   ]
  },
  {
   "cell_type": "markdown",
   "id": "c9c45f2f-2156-48ea-9a0d-7fa8f0608186",
   "metadata": {},
   "source": [
    "<code>Respuesta:</code>"
   ]
  },
  {
   "cell_type": "code",
   "execution_count": 6,
   "id": "f44e2faa-af37-4719-b274-889c783a2c46",
   "metadata": {},
   "outputs": [
    {
     "data": {
      "text/plain": [
       "'ABC'"
      ]
     },
     "execution_count": 6,
     "metadata": {},
     "output_type": "execute_result"
    }
   ],
   "source": [
    "D[:3] #3 es exclusivo"
   ]
  },
  {
   "cell_type": "markdown",
   "id": "e4f6e49a-7c0b-4671-b212-34a6080b3c13",
   "metadata": {},
   "source": [
    "**pregunta 5** Usa un valor de stride de 2 para imprimir cada segundo elemento de la cadena <code>E</code>:"
   ]
  },
  {
   "cell_type": "code",
   "execution_count": 7,
   "id": "97592b70-b276-4ce9-be3d-93fbc36f84ec",
   "metadata": {},
   "outputs": [],
   "source": [
    "# Escribe abajo tu código y presiona Shift+Enter para ejecutarlo\n",
    "\n",
    "E = 'clocrkr1e1c1t'"
   ]
  },
  {
   "cell_type": "markdown",
   "id": "de9199a3-1078-4b91-8fbe-f3c41a80ca52",
   "metadata": {},
   "source": [
    "<code>Respuesta:</code>"
   ]
  },
  {
   "cell_type": "code",
   "execution_count": 8,
   "id": "38d9d11b-7d39-407f-a0ee-91da2ec1b8f7",
   "metadata": {},
   "outputs": [
    {
     "data": {
      "text/plain": [
       "'correct'"
      ]
     },
     "execution_count": 8,
     "metadata": {},
     "output_type": "execute_result"
    }
   ],
   "source": [
    "E[::2]"
   ]
  },
  {
   "cell_type": "markdown",
   "id": "a204cb0b-4863-4e5b-a811-f6ef16c76216",
   "metadata": {},
   "source": [
    "**pregunta 6** Imprime una barra invertida:"
   ]
  },
  {
   "cell_type": "markdown",
   "id": "2c4d82df-3bbb-43ad-a85e-fb0b9e688fdf",
   "metadata": {},
   "source": [
    "<code>Respuesta:</code>"
   ]
  },
  {
   "cell_type": "code",
   "execution_count": 9,
   "id": "bdaf15ee-c9f0-4f48-9397-2a42a2b6cf22",
   "metadata": {},
   "outputs": [
    {
     "name": "stdout",
     "output_type": "stream",
     "text": [
      "\\\n"
     ]
    }
   ],
   "source": [
    "print('\\\\')"
   ]
  },
  {
   "cell_type": "markdown",
   "id": "4bf5bf62-9da9-4238-b169-5df68ecaf689",
   "metadata": {},
   "source": [
    "**pregunta 7**Convierte el mayúsculas el contenido de la variable <code>F</code>:"
   ]
  },
  {
   "cell_type": "code",
   "execution_count": 10,
   "id": "d5c12f75-c1fa-49c1-817a-0215cdedd4b6",
   "metadata": {},
   "outputs": [],
   "source": [
    "# Escribe abajo tu código y presiona Shift+Enter para ejecutarlo\n",
    "\n",
    "F = \"You are wrong\""
   ]
  },
  {
   "cell_type": "markdown",
   "id": "276ff973-4873-4d00-8ceb-eaa53548ee83",
   "metadata": {},
   "source": [
    "<code>Respuesta:</code>"
   ]
  },
  {
   "cell_type": "code",
   "execution_count": 13,
   "id": "6cf06dbf-c293-443d-9999-66d037231456",
   "metadata": {},
   "outputs": [
    {
     "data": {
      "text/plain": [
       "'YOU ARE WRONG'"
      ]
     },
     "execution_count": 13,
     "metadata": {},
     "output_type": "execute_result"
    }
   ],
   "source": [
    "F.upper()"
   ]
  },
  {
   "cell_type": "markdown",
   "id": "f05f16c9-4fcc-4645-bf21-590fe6f929c0",
   "metadata": {},
   "source": [
    "**pregunta 8** En la variable <code>G</code>, encuentra el primer índice de la sub-cadena <code>snow</code>:"
   ]
  },
  {
   "cell_type": "code",
   "execution_count": 15,
   "id": "b43471d8-7d52-4547-bdd2-910f895fe8a5",
   "metadata": {},
   "outputs": [],
   "source": [
    "# Escribe abajo tu código y presiona Shift+Enter para ejecutarlo\n",
    "\n",
    "G = \"Mary had a little lamb Little lamb, little lamb Mary had a little lamb \\\n",
    "Its fleece was white as snow And everywhere that Mary went Mary went, Mary went \\\n",
    "Everywhere that Mary went The lamb was sure to go\""
   ]
  },
  {
   "cell_type": "markdown",
   "id": "eb6fd5c9-b099-403b-b8df-623f41b1e13f",
   "metadata": {},
   "source": [
    "<code>Respuesta:</code>"
   ]
  },
  {
   "cell_type": "code",
   "execution_count": 16,
   "id": "167eb7a2-647b-496a-94ea-a08e4ce59ae4",
   "metadata": {},
   "outputs": [
    {
     "data": {
      "text/plain": [
       "95"
      ]
     },
     "execution_count": 16,
     "metadata": {},
     "output_type": "execute_result"
    }
   ],
   "source": [
    "G.find(\"snow\")"
   ]
  },
  {
   "cell_type": "markdown",
   "id": "65c89096-9efe-47f6-a49f-3e909fb5a748",
   "metadata": {},
   "source": [
    "**pregunta 9**En la variable <code>G</code>, reemplaza la sub-cadena <code>Mary</code> con <code>Bob</code>:"
   ]
  },
  {
   "cell_type": "markdown",
   "id": "151a792f-22cf-4a7b-a3a0-f4fb841e6929",
   "metadata": {},
   "source": [
    "<code>Respuesta:</code>"
   ]
  },
  {
   "cell_type": "code",
   "execution_count": 19,
   "id": "09319e2a-26d2-4c5a-a7da-6c69d8c52687",
   "metadata": {},
   "outputs": [
    {
     "data": {
      "text/plain": [
       "'Bob had a little lamb Little lamb, little lamb Bob had a little lamb Its fleece was white as snow And everywhere that Bob went Bob went, Bob went Everywhere that Bob went The lamb was sure to go'"
      ]
     },
     "execution_count": 19,
     "metadata": {},
     "output_type": "execute_result"
    }
   ],
   "source": [
    "G.replace('Mary',\"Bob\")"
   ]
  },
  {
   "cell_type": "markdown",
   "id": "39ce2355-7a58-4280-9069-25b1795e1573",
   "metadata": {},
   "source": [
    "# Tuplas"
   ]
  },
  {
   "cell_type": "markdown",
   "id": "15949752-2bf3-455d-9645-7b5a1f31d2eb",
   "metadata": {},
   "source": [
    "**Considérese la siguiente tupla:**"
   ]
  },
  {
   "cell_type": "code",
   "execution_count": 20,
   "id": "edadf69f-d3e2-466d-8ed0-f9f622a67f9b",
   "metadata": {},
   "outputs": [
    {
     "data": {
      "text/plain": [
       "('pop',\n",
       " 'rock',\n",
       " 'soul',\n",
       " 'hard rock',\n",
       " 'soft rock',\n",
       " 'R&B',\n",
       " 'progressive rock',\n",
       " 'disco')"
      ]
     },
     "execution_count": 20,
     "metadata": {},
     "output_type": "execute_result"
    }
   ],
   "source": [
    "# Tupla de ejemplo\n",
    "\n",
    "genres_tuple = (\"pop\", \"rock\", \"soul\", \"hard rock\", \"soft rock\", \\\n",
    "                \"R&B\", \"progressive rock\", \"disco\") \n",
    "genres_tuple"
   ]
  },
  {
   "cell_type": "markdown",
   "id": "f08b2e9f-e4b6-443e-8807-9227954c368e",
   "metadata": {},
   "source": [
    "Encontrar la longitud de la tupla, <code>genres_tuple</code>:"
   ]
  },
  {
   "cell_type": "code",
   "execution_count": 21,
   "id": "4c9fa02d-d469-4d09-8554-b164cb2bf790",
   "metadata": {},
   "outputs": [
    {
     "data": {
      "text/plain": [
       "8"
      ]
     },
     "execution_count": 21,
     "metadata": {},
     "output_type": "execute_result"
    }
   ],
   "source": [
    "len(genres_tuple)"
   ]
  },
  {
   "cell_type": "markdown",
   "id": "2b9b38af-d99d-4241-bf6c-219f0da0af51",
   "metadata": {},
   "source": [
    "**Accede al elemento en el índice 3:**"
   ]
  },
  {
   "cell_type": "code",
   "execution_count": 22,
   "id": "2a036d0a-cb75-4ef9-9687-fbb3cdbf1c38",
   "metadata": {},
   "outputs": [
    {
     "data": {
      "text/plain": [
       "'hard rock'"
      ]
     },
     "execution_count": 22,
     "metadata": {},
     "output_type": "execute_result"
    }
   ],
   "source": [
    "genres_tuple[3]"
   ]
  },
  {
   "cell_type": "markdown",
   "id": "dda70118-16b3-484e-ac9c-254874af132f",
   "metadata": {},
   "source": [
    "**Utiliza el slicing para obtener los índices 3, 4 y 5:**"
   ]
  },
  {
   "cell_type": "code",
   "execution_count": 26,
   "id": "a6f70c3d-dc07-44ea-bcd9-4a3d0c67f1b4",
   "metadata": {},
   "outputs": [
    {
     "data": {
      "text/plain": [
       "('hard rock', 'soft rock', 'R&B')"
      ]
     },
     "execution_count": 26,
     "metadata": {},
     "output_type": "execute_result"
    }
   ],
   "source": [
    "genres_tuple[3:6] # 6 es exclusivo por lo que es de 3 a 5 "
   ]
  },
  {
   "cell_type": "markdown",
   "id": "6b5cd45a-637c-4a60-8695-0dfbd5d2c0f3",
   "metadata": {},
   "source": [
    "**Encuentra los primeros dos elementos de la tupla <code>genres_tuple</code>:**"
   ]
  },
  {
   "cell_type": "code",
   "execution_count": 28,
   "id": "befe746b-4638-4653-9d48-b0abe11ee0ef",
   "metadata": {},
   "outputs": [
    {
     "data": {
      "text/plain": [
       "('pop', 'rock')"
      ]
     },
     "execution_count": 28,
     "metadata": {},
     "output_type": "execute_result"
    }
   ],
   "source": [
    "genres_tuple[:2] #slicing encontrar elementos 0 y 1"
   ]
  },
  {
   "cell_type": "markdown",
   "id": "79cf1b2f-6856-4aa1-a223-78b3b704c862",
   "metadata": {},
   "source": [
    "**Encuentra el primer índice de <code>\"disco\"</code>:**"
   ]
  },
  {
   "cell_type": "code",
   "execution_count": 30,
   "id": "c8f33061-f0b1-445f-91f0-ac77ecef8743",
   "metadata": {},
   "outputs": [
    {
     "data": {
      "text/plain": [
       "7"
      ]
     },
     "execution_count": 30,
     "metadata": {},
     "output_type": "execute_result"
    }
   ],
   "source": [
    "genres_tuple.index('disco')"
   ]
  },
  {
   "cell_type": "markdown",
   "id": "6ddf49c7-d266-4051-8ebc-7da30eec000e",
   "metadata": {},
   "source": [
    "**Genera una lista ordenada desde la tupla <code>C_tuple=(-5, 1, -3)</code>:**"
   ]
  },
  {
   "cell_type": "code",
   "execution_count": 1,
   "id": "5100a58a-739f-41e0-bcef-20ae049c94c7",
   "metadata": {},
   "outputs": [],
   "source": [
    "C_tuple=(-5, 1, -3)"
   ]
  },
  {
   "cell_type": "code",
   "execution_count": 2,
   "id": "7c5d9eaf-689e-44bb-96ec-b643d59adb36",
   "metadata": {},
   "outputs": [
    {
     "data": {
      "text/plain": [
       "[-5, -3, 1]"
      ]
     },
     "execution_count": 2,
     "metadata": {},
     "output_type": "execute_result"
    }
   ],
   "source": [
    "sort = sorted(C_tuple) # organiza la tupla de menor a mayor\n",
    "sort"
   ]
  },
  {
   "cell_type": "markdown",
   "id": "60f5151c-b8e8-4da2-9369-8f81b73e430b",
   "metadata": {},
   "source": [
    "# Listas"
   ]
  },
  {
   "cell_type": "markdown",
   "id": "32ff3c6e-9232-4f8c-8cb4-db30da225c1a",
   "metadata": {},
   "source": [
    "**Crea una lista <code>a_lit</code> con los siguientes elementos <code>1</code>, <code>hello</code>, <code>[1,2,3]</code> y <code>True</code>.**"
   ]
  },
  {
   "cell_type": "code",
   "execution_count": 37,
   "id": "83946223-0adc-4487-85d5-359ea9705e21",
   "metadata": {},
   "outputs": [
    {
     "data": {
      "text/plain": [
       "[1, 'hello', [1, 2, 3], True]"
      ]
     },
     "execution_count": 37,
     "metadata": {},
     "output_type": "execute_result"
    }
   ],
   "source": [
    "a_list = [1,'hello',[1,2,3],True]\n",
    "a_list"
   ]
  },
  {
   "cell_type": "markdown",
   "id": "9453e2a1-644c-4825-8ad7-c676bddbb0a1",
   "metadata": {},
   "source": [
    "**Encuentra el valor almacenado en el índice 1 de <code>a_list</code>.**"
   ]
  },
  {
   "cell_type": "code",
   "execution_count": 38,
   "id": "d56f8376-0971-4e32-a4ce-65066ded8cfc",
   "metadata": {},
   "outputs": [
    {
     "data": {
      "text/plain": [
       "'hello'"
      ]
     },
     "execution_count": 38,
     "metadata": {},
     "output_type": "execute_result"
    }
   ],
   "source": [
    "a_list[1]"
   ]
  },
  {
   "cell_type": "markdown",
   "id": "e1d6a2f1-39b8-4ec5-888b-2bc534f44aca",
   "metadata": {},
   "source": [
    "**Obtén el elemento almacenado en el índice 1, 2 y 3 de <code>a_list</code>.**"
   ]
  },
  {
   "cell_type": "code",
   "execution_count": 39,
   "id": "ab06bb19-f56c-4649-8472-f7aa53ecdb23",
   "metadata": {},
   "outputs": [
    {
     "data": {
      "text/plain": [
       "['hello', [1, 2, 3], True]"
      ]
     },
     "execution_count": 39,
     "metadata": {},
     "output_type": "execute_result"
    }
   ],
   "source": [
    "a_list[1:4] # 4 es exclusivo por lo que solo se ven los indices 1 2 3"
   ]
  },
  {
   "cell_type": "markdown",
   "id": "3b0c44d8-6f5e-486d-94d8-767d40c44ef5",
   "metadata": {},
   "source": [
    "**Concatena las siguientes listas <code>A = [1, 'a']</code> y <code>B = [2, 1, 'd']</code>:**"
   ]
  },
  {
   "cell_type": "code",
   "execution_count": 44,
   "id": "2c7f31ab-20ff-44f6-b863-9aa780e35725",
   "metadata": {},
   "outputs": [
    {
     "data": {
      "text/plain": [
       "[1, 'a', 2, 1, 'd']"
      ]
     },
     "execution_count": 44,
     "metadata": {},
     "output_type": "execute_result"
    }
   ],
   "source": [
    "A = [1,'a']\n",
    "B = [2,1,'d']\n",
    "A+B # extend usando '+'\n"
   ]
  },
  {
   "cell_type": "code",
   "execution_count": 4,
   "id": "87b40cc0-85ed-424c-aea4-9959fead7815",
   "metadata": {},
   "outputs": [
    {
     "data": {
      "text/plain": [
       "[1, 'a', 2, 1, 'd']"
      ]
     },
     "execution_count": 4,
     "metadata": {},
     "output_type": "execute_result"
    }
   ],
   "source": [
    "A = [1,'a']\n",
    "B = [2,1,'d']\n",
    "A.extend(B) #usando funcion extend\n",
    "A"
   ]
  },
  {
   "cell_type": "markdown",
   "id": "d8a5d6bb-c55c-4fb0-af32-9d80f3d6d6a4",
   "metadata": {},
   "source": [
    "# Conjuntos"
   ]
  },
  {
   "cell_type": "markdown",
   "id": "9bdb7c41-2e37-44ed-a60b-de8da602e000",
   "metadata": {},
   "source": [
    "**Transformar la lista <code>['rap','house','electronic music', 'rap']</code> en un conjunto:**"
   ]
  },
  {
   "cell_type": "code",
   "execution_count": 45,
   "id": "9d1e71d1-851c-4099-ad40-8d57ab3c42a5",
   "metadata": {},
   "outputs": [
    {
     "data": {
      "text/plain": [
       "{'electronic music', 'house', 'rap'}"
      ]
     },
     "execution_count": 45,
     "metadata": {},
     "output_type": "execute_result"
    }
   ],
   "source": [
    "set(['rap','house','electronic music', 'rap'])"
   ]
  },
  {
   "cell_type": "markdown",
   "id": "5c2d4a2e-5a8e-4d72-ad0a-a6717e84fcdb",
   "metadata": {},
   "source": [
    "**Considera que la lista <code>A = [1, 2, 2, 1]</code> y el conjunto <code>B = set([1, 2, 2, 1])</code> suman <code>sum(A) = sum(B)</code>**"
   ]
  },
  {
   "cell_type": "code",
   "execution_count": 6,
   "id": "2ea26b97-3032-4d48-81cc-2e648596f865",
   "metadata": {},
   "outputs": [],
   "source": [
    "A = [1, 2, 2, 1]\n",
    "B = set([1, 2, 2, 1])"
   ]
  },
  {
   "cell_type": "code",
   "execution_count": 7,
   "id": "efd9a185-df59-48e4-81e7-492d309ae2c7",
   "metadata": {},
   "outputs": [
    {
     "name": "stdout",
     "output_type": "stream",
     "text": [
      "6\n",
      "3\n"
     ]
    }
   ],
   "source": [
    "## las sumas no son iguales\n",
    "print(sum(A))\n",
    "print(sum(B)) \n",
    "## las sumas no son iguales ya que en los ets no pueden haber numeros repetidos y en las listas si"
   ]
  },
  {
   "cell_type": "markdown",
   "id": "6a94e5b0-d239-41b2-845d-b6a1405fd0dc",
   "metadata": {},
   "source": [
    "**Crea un nuevo conjunto <code>album_set3</code> que sea la unión de <code>album_set1</code> y <code>album_set2</code>:**"
   ]
  },
  {
   "cell_type": "code",
   "execution_count": 9,
   "id": "920d57c0-ac8b-4123-b964-8d35c94d7b4d",
   "metadata": {},
   "outputs": [
    {
     "data": {
      "text/plain": [
       "{'AC/DC', 'Back in Black', 'The Dark Side of the Moon', 'Thriller'}"
      ]
     },
     "execution_count": 9,
     "metadata": {},
     "output_type": "execute_result"
    }
   ],
   "source": [
    "# Escribe abajo tu código y presiona Shift+Enter para ejecutarlo\n",
    "\n",
    "album_set1 = set([\"Thriller\", 'AC/DC', 'Back in Black'])\n",
    "album_set2 = set([ \"AC/DC\", \"Back in Black\", \"The Dark Side of the Moon\"])\n",
    "\n",
    "album_set3 = album_set1.union(album_set2)\n",
    "album_set3"
   ]
  },
  {
   "cell_type": "markdown",
   "id": "1e667210-c1b8-4e0e-9974-cb0fa529ab2c",
   "metadata": {},
   "source": [
    "**Averigua si <code>album_set1</code> es un subconjunto de <code>album_set3</code>:**"
   ]
  },
  {
   "cell_type": "code",
   "execution_count": 10,
   "id": "150f9026-8a87-4d98-b2f3-ba86989bbe7d",
   "metadata": {},
   "outputs": [
    {
     "data": {
      "text/plain": [
       "True"
      ]
     },
     "execution_count": 10,
     "metadata": {},
     "output_type": "execute_result"
    }
   ],
   "source": [
    "album_set1.issubset(album_set3) ## album_set1 si es un sub set de album_set3"
   ]
  },
  {
   "cell_type": "markdown",
   "id": "478ec9e8-68cb-4d33-a7a0-0bd389c6c4e3",
   "metadata": {},
   "source": [
    "# Diccionarios"
   ]
  },
  {
   "cell_type": "code",
   "execution_count": 51,
   "id": "4bfcf79f-bd72-4b8f-b90e-70aecfc0e119",
   "metadata": {},
   "outputs": [
    {
     "data": {
      "text/plain": [
       "{'The Bodyguard': '1992', 'Saturday Night Fever': '1977'}"
      ]
     },
     "execution_count": 51,
     "metadata": {},
     "output_type": "execute_result"
    }
   ],
   "source": [
    "# Pregunta - Diccionario de ejemplo\n",
    "\n",
    "soundtrack_dic = {\"The Bodyguard\":\"1992\", \"Saturday Night Fever\":\"1977\"}\n",
    "soundtrack_dic "
   ]
  },
  {
   "cell_type": "markdown",
   "id": "fa47b9ee-0026-4578-88b2-179e848b297f",
   "metadata": {},
   "source": [
    "**a) En el diccionario <code>soundtrack_dict</code>. ¿Cuáles son las llaves?**"
   ]
  },
  {
   "cell_type": "code",
   "execution_count": 53,
   "id": "d1526603-0f99-4c0a-94da-4fa27501046c",
   "metadata": {},
   "outputs": [
    {
     "name": "stdout",
     "output_type": "stream",
     "text": [
      "las lalves son:dict_keys(['The Bodyguard', 'Saturday Night Fever']) \n"
     ]
    }
   ],
   "source": [
    "print(f'las lalves son:{soundtrack_dic.keys()} ')"
   ]
  },
  {
   "cell_type": "markdown",
   "id": "53647d9d-76a4-489f-b99b-4ccdbc0641fa",
   "metadata": {},
   "source": [
    "**b) En el diccionario <code>soundtrack_dict</code>. ¿Cuáles son los valores?**"
   ]
  },
  {
   "cell_type": "code",
   "execution_count": 54,
   "id": "ff5fd19f-b464-4d1c-9ca4-4615848761e6",
   "metadata": {},
   "outputs": [
    {
     "name": "stdout",
     "output_type": "stream",
     "text": [
      "los valores son dict_values(['1992', '1977'])\n"
     ]
    }
   ],
   "source": [
    "print(f'los valores son {soundtrack_dic.values()}')"
   ]
  },
  {
   "cell_type": "markdown",
   "id": "41cc943c-5e49-4d53-bf42-427294b177c0",
   "metadata": {},
   "source": [
    "Los discos <b>Back in Black</b>, <b>The Bodyguard</b> y <b>Thriller</b> poseen el siguiente record de ventas en millones, 50, 50 y 65 respectivamente:"
   ]
  },
  {
   "cell_type": "markdown",
   "id": "40c329e8-8a32-4884-aca8-e2da72e79ae3",
   "metadata": {},
   "source": [
    "**a) Crea un diccionario <code>album_sales_dict</code> donde las llaves sean el nombre del disco y los valores la cantidad de ventas en millones.**"
   ]
  },
  {
   "cell_type": "code",
   "execution_count": 58,
   "id": "d0b6151c-65ee-441f-babb-710b1d3da15b",
   "metadata": {},
   "outputs": [
    {
     "data": {
      "text/plain": [
       "{'Back in Black': 50, 'The Bodyguard': 50, 'Thriller': 65}"
      ]
     },
     "execution_count": 58,
     "metadata": {},
     "output_type": "execute_result"
    }
   ],
   "source": [
    "album_sales_dict = {'Back in Black':50,'The Bodyguard':50,'Thriller':65}\n",
    "album_sales_dict"
   ]
  },
  {
   "cell_type": "markdown",
   "id": "18a7dff2-7e12-401f-9345-0cd12a46f4ae",
   "metadata": {},
   "source": [
    "**b) Usa el diccionario para encontrar las ventas totales de <b>Thriller</b>:**"
   ]
  },
  {
   "cell_type": "code",
   "execution_count": 59,
   "id": "0762791f-b7d7-4024-a92f-6d63554277e5",
   "metadata": {},
   "outputs": [
    {
     "data": {
      "text/plain": [
       "65"
      ]
     },
     "execution_count": 59,
     "metadata": {},
     "output_type": "execute_result"
    }
   ],
   "source": [
    "album_sales_dict['Thriller']"
   ]
  },
  {
   "cell_type": "markdown",
   "id": "b3d89f38-c2cb-4ea8-94fe-39c98d2d263a",
   "metadata": {},
   "source": [
    "**c) Encuentra los nombres de los discos dentro del diccionario mediante el método <code>keys</code>:**"
   ]
  },
  {
   "cell_type": "code",
   "execution_count": 60,
   "id": "e33b3611-3feb-43ac-a947-67b19587d21a",
   "metadata": {},
   "outputs": [
    {
     "data": {
      "text/plain": [
       "dict_keys(['Back in Black', 'The Bodyguard', 'Thriller'])"
      ]
     },
     "execution_count": 60,
     "metadata": {},
     "output_type": "execute_result"
    }
   ],
   "source": [
    "album_sales_dict.keys()"
   ]
  },
  {
   "cell_type": "markdown",
   "id": "0068e971-7fbd-4003-8903-e9aa9e007cf8",
   "metadata": {},
   "source": [
    "**d) Encuentra los records de ventas dentro del diccionario mediante el método <code>values</code>:**"
   ]
  },
  {
   "cell_type": "code",
   "execution_count": 61,
   "id": "24ea8063-efee-4d67-924b-ef4717d79b9c",
   "metadata": {},
   "outputs": [
    {
     "data": {
      "text/plain": [
       "dict_values([50, 50, 65])"
      ]
     },
     "execution_count": 61,
     "metadata": {},
     "output_type": "execute_result"
    }
   ],
   "source": [
    "album_sales_dict.values()"
   ]
  },
  {
   "cell_type": "markdown",
   "id": "018e2182-8019-4dd1-b3c8-6273d037f2b3",
   "metadata": {},
   "source": [
    "# Condicionales"
   ]
  },
  {
   "cell_type": "markdown",
   "id": "eb97ac3d-9c52-478f-886e-55ac4022632c",
   "metadata": {},
   "source": [
    "**Escribe una declaración if que determine si un disco musical tiene una calificación mayor a 8. Compruébalo utilizando el calificación del disco <b>“Back in Black”</b> el cual tiene un valor de 8.5. Si la condición es verdadera, imprime “\"This album is Amazing!\"”**"
   ]
  },
  {
   "cell_type": "code",
   "execution_count": 2,
   "id": "fd085e6d-e342-4439-a53f-b694bbca331f",
   "metadata": {},
   "outputs": [
    {
     "name": "stdout",
     "output_type": "stream",
     "text": [
      "This album is Amazing!\n"
     ]
    }
   ],
   "source": [
    "Discs = {'Back in Black':8.5}\n",
    "if Discs['Back in Black'] > 8 :\n",
    "    print(\"This album is Amazing!\")"
   ]
  },
  {
   "cell_type": "markdown",
   "id": "dae58760-76fa-4d7d-8f62-7942c64604c2",
   "metadata": {},
   "source": [
    "**Escribe una declaración if-else que determine lo siguiente. Si la calificación es mayor que 8 imprime “this album is amazing”. Si es menor o igual a 8 que imprima “this album is ok”.**"
   ]
  },
  {
   "cell_type": "code",
   "execution_count": 3,
   "id": "2a7def1d-da50-4139-82db-94f4a8967fe4",
   "metadata": {},
   "outputs": [
    {
     "name": "stdout",
     "output_type": "stream",
     "text": [
      "This album is Amazing!\n"
     ]
    }
   ],
   "source": [
    "Discs = {'Back in Black':8.5}\n",
    "if Discs['Back in Black'] > 8 :\n",
    "    print(\"This album is Amazing!\")\n",
    "else:\n",
    "    print('this album is ok')"
   ]
  },
  {
   "cell_type": "markdown",
   "id": "7df4bcae-4cc9-419a-a264-898037eb2109",
   "metadata": {},
   "source": [
    "**Escribe una declaración if que determine si un disco fue lanzado antes de 1980 o en los años 1991 o 1993. Si la condición es verdadera imprime el año de lanzamiento.**"
   ]
  },
  {
   "cell_type": "code",
   "execution_count": 4,
   "id": "4776541f-2ea8-4922-b6f1-e9f606f4f878",
   "metadata": {},
   "outputs": [
    {
     "name": "stdout",
     "output_type": "stream",
     "text": [
      "1991\n"
     ]
    }
   ],
   "source": [
    "Discs = {'Back in Black':1991}\n",
    "if Discs['Back in Black'] < 1980 or  Discs['Back in Black'] == 1991 or Discs['Back in Black'] == 1993:\n",
    "    print(Discs['Back in Black'])"
   ]
  },
  {
   "cell_type": "markdown",
   "id": "75b0b625-d11d-4c78-a786-198a409c8f7d",
   "metadata": {},
   "source": [
    "# bucles"
   ]
  },
  {
   "cell_type": "markdown",
   "id": "b8459461-fd5f-4b59-b50f-c95b5275072d",
   "metadata": {},
   "source": [
    "**Escribe un bucle <code>for</code> que imprima todos los elementos entre <b>-5</b> y <b>5</b> usando la función range.**"
   ]
  },
  {
   "cell_type": "code",
   "execution_count": 5,
   "id": "aacc8cef-b383-442b-92f4-7ba104d23aff",
   "metadata": {},
   "outputs": [
    {
     "name": "stdout",
     "output_type": "stream",
     "text": [
      "-5\n",
      "-4\n",
      "-3\n",
      "-2\n",
      "-1\n",
      "0\n",
      "1\n",
      "2\n",
      "3\n",
      "4\n",
      "5\n"
     ]
    }
   ],
   "source": [
    "for i in range(-5,6):#6 es exclusivo por lo que solo es de -5 a 5\n",
    "    print(i)"
   ]
  },
  {
   "cell_type": "markdown",
   "id": "729ad3bf-8420-456d-899b-a5eadcd6be30",
   "metadata": {},
   "source": [
    "**Imprime los elementos de la siguiente lista:\n",
    "<code>Genres=[ 'rock', 'R&B', 'Soundtrack', 'R&B', 'soul', 'pop']</code>\n",
    "Y asegúrate de seguir las convenciones del lenguaje Python**"
   ]
  },
  {
   "cell_type": "code",
   "execution_count": 12,
   "id": "40dfed64-e1d9-4f3d-a401-8f30f0c03702",
   "metadata": {},
   "outputs": [
    {
     "name": "stdout",
     "output_type": "stream",
     "text": [
      "rock\n",
      "R&B\n",
      "Soundtrack\n",
      "R&B\n",
      "soul\n",
      "pop\n"
     ]
    }
   ],
   "source": [
    "Genres=[ 'rock', 'R&B', 'Soundtrack', 'R&B', 'soul', 'pop']\n",
    "for Gen in Genres:\n",
    "    print(Gen)"
   ]
  },
  {
   "cell_type": "markdown",
   "id": "16f532a3-f889-4523-a788-85c7921d677f",
   "metadata": {},
   "source": [
    "**Escribe un bucle for que imprima la siguiente lista: <code>squares=['red', 'yellow', 'green', 'purple', 'blue']</code>**"
   ]
  },
  {
   "cell_type": "code",
   "execution_count": 13,
   "id": "0bd287cd-a9d7-49c6-b39d-36b224d5b99d",
   "metadata": {},
   "outputs": [
    {
     "name": "stdout",
     "output_type": "stream",
     "text": [
      "red\n",
      "yellow\n",
      "green\n",
      "purple\n",
      "blue\n"
     ]
    }
   ],
   "source": [
    "squares=['red', 'yellow', 'green', 'purple', 'blue']\n",
    "for squ in squares:\n",
    "    print(squ)"
   ]
  },
  {
   "cell_type": "markdown",
   "id": "62f7eeb8-4150-45e3-a8a8-bde99ef0a1fd",
   "metadata": {},
   "source": [
    "**Escribe un bucle while que muestre los valores de la calificación de las canciones de un disco almacenados en la lista <code>PlayListRatings</code>. Si la calificación es menor a 6, sal del bucle. La lista <code>PlayListRatings</code> esta compuesta por: <code>PlayListRatings = [10, 9.5, 10, 8, 7.5, 5, 10, 10]</code>**"
   ]
  },
  {
   "cell_type": "code",
   "execution_count": 11,
   "id": "a02bdaf9-1395-464c-a4f3-f9bcbf7becc5",
   "metadata": {},
   "outputs": [
    {
     "name": "stdout",
     "output_type": "stream",
     "text": [
      "10\n",
      "9.5\n",
      "10\n",
      "8\n",
      "7.5\n"
     ]
    }
   ],
   "source": [
    "PlayListRatings = [10, 9.5, 10, 8, 7.5, 5, 10, 10]\n",
    "# comenzar con el primer elemento de la lsita\n",
    "i=0\n",
    "rating = PlayListRatings[i]\n",
    "#terminar cuando encuentre rating mayor a 6\n",
    "while rating > 6 :\n",
    "    print(rating)\n",
    "    # conseguir el siguiente rating\n",
    "    i +=1\n",
    "    rating = PlayListRatings[i]"
   ]
  },
  {
   "cell_type": "markdown",
   "id": "0a40d550-39bd-4801-8564-6f1f8fa588fe",
   "metadata": {},
   "source": [
    "**Escribe un bucle while que copie las cadenas <code>'orange'</code> de la lista <code>squares</code> a la lista <code>new_squares</code>. Detente y sal del ciclo si el valor en la lista no es <code>'orange'</code>:**"
   ]
  },
  {
   "cell_type": "code",
   "execution_count": 20,
   "id": "6a789c87-e507-46aa-bc87-56edd5a19e0c",
   "metadata": {},
   "outputs": [
    {
     "name": "stdout",
     "output_type": "stream",
     "text": [
      "['orange', 'orange']\n"
     ]
    }
   ],
   "source": [
    "# Escribe abajo tu código y presiona Shift+Enter para ejecutarlo\n",
    "\n",
    "squares = ['orange', 'orange', 'purple', 'blue ', 'orange']\n",
    "# lista donde se guarde las naranjas\n",
    "new_squares = []\n",
    "i =0\n",
    "#terminar si no encuentra \"orange\"\n",
    "while squares[i] == 'orange':\n",
    "    new_squares.append(squares[i])\n",
    "    i+=1\n",
    "print(new_squares)"
   ]
  },
  {
   "cell_type": "markdown",
   "id": "806b180a-90a4-4098-b290-0fddaf897f14",
   "metadata": {},
   "source": [
    "# Funciones"
   ]
  },
  {
   "cell_type": "markdown",
   "id": "20a8b6fe-840d-4aa5-8bee-e9a581f9d7b3",
   "metadata": {},
   "source": [
    "**Cree una función que divida la primera entrada por la segunda entrada:**"
   ]
  },
  {
   "cell_type": "code",
   "execution_count": 23,
   "id": "0d11ab47-c39f-4413-a846-4ccf0df5de60",
   "metadata": {},
   "outputs": [
    {
     "data": {
      "text/plain": [
       "1.0"
      ]
     },
     "execution_count": 23,
     "metadata": {},
     "output_type": "execute_result"
    }
   ],
   "source": [
    "def division(x,y):\n",
    "    return x/y\n",
    "division(2,2)"
   ]
  },
  {
   "cell_type": "markdown",
   "id": "f6cecc5b-f48b-4df3-bd29-39627e324618",
   "metadata": {},
   "source": [
    "**¿Se puede usar la función <code> con </code> que definimos antes para agregar números enteros o cadenas?**"
   ]
  },
  {
   "cell_type": "code",
   "execution_count": 24,
   "id": "69249ac9-a868-43d2-986a-9910d673a202",
   "metadata": {},
   "outputs": [
    {
     "data": {
      "text/plain": [
       "(4, 'ab')"
      ]
     },
     "execution_count": 24,
     "metadata": {},
     "output_type": "execute_result"
    }
   ],
   "source": [
    "# Usa la función con para la siguiente pregunta\n",
    "\n",
    "def con(a, b):\n",
    "    return(a + b)\n",
    "\n",
    "# si se puede ya que dependiendo del tipo de la variable se usara el operador \"+\" correspondiente\n",
    "con(2,2),con('a','b')"
   ]
  },
  {
   "cell_type": "markdown",
   "id": "07e6c4e5-e193-400e-996d-72d37ef6e05b",
   "metadata": {},
   "source": [
    "# Clases"
   ]
  },
  {
   "cell_type": "code",
   "execution_count": 13,
   "id": "d01449a8-a2fe-4ee9-bdc4-545b98d16604",
   "metadata": {},
   "outputs": [],
   "source": [
    "import matplotlib.pyplot as plt\n",
    "%matplotlib inline\n",
    "from matplotlib.patches import Ellipse"
   ]
  },
  {
   "cell_type": "markdown",
   "id": "37911aaa-d197-478d-afbd-f411e7906c25",
   "metadata": {},
   "source": [
    "<code>plt.gca().add_patch(Ellipse(xy, width, height, facecolor = color, edgecolor = edgecolor))</code>\n",
    "\n",
    "Se requiere crear una clase Elipse, la cual el constructor sea con valores iniciales cualesquiera. Adicionalmente, la clase debe tener los siguientes métodos:\n",
    "\n",
    "1.- Cambiar el ancho\n",
    "\n",
    "2.- Cambiar el alto\n",
    "\n",
    "3.- Cambiar el color de relleno\n",
    "\n",
    "4.- Cambiar el color de borde\n",
    "\n",
    "5.- Dibujar"
   ]
  },
  {
   "cell_type": "code",
   "execution_count": 14,
   "id": "91bdbf74-4cf1-4c7a-ac15-d99c481024c7",
   "metadata": {},
   "outputs": [],
   "source": [
    "class elipse2:\n",
    "    #constructor\n",
    "    def __init__(self,ancho,altura,pos=(0.5,0.5),color='red',colorBorde='blue'):\n",
    "        self.xy=pos\n",
    "        self.ancho=ancho\n",
    "        self.altura = altura\n",
    "        self.color = color\n",
    "        self.colorBorde = colorBorde\n",
    "    #cambiar ancho\n",
    "    def set_ancho(self,ancho):\n",
    "        self.ancho = ancho\n",
    "    #cambiar alto\n",
    "    def set_alto(self,alto):\n",
    "        self.altura = alto\n",
    "    #cambiar color\n",
    "    def set_color(self,color):\n",
    "        self.color = color\n",
    "    #cambiar borde\n",
    "    def set_border(self,border):\n",
    "        self.colorBorde=border\n",
    "    #dibujar\n",
    "    def dibujar(self):\n",
    "        plt.gca().add_patch(Ellipse(self.xy,width=self.ancho, height=self.altura, facecolor = self.color, edgecolor = self.colorBorde))"
   ]
  },
  {
   "cell_type": "code",
   "execution_count": 15,
   "id": "8c294329-f5b4-4b91-a9aa-b5cc93553c0c",
   "metadata": {},
   "outputs": [
    {
     "data": {
      "image/png": "[encoded data removed]",
      "text/plain": [
       "<Figure size 640x480 with 1 Axes>"
      ]
     },
     "metadata": {},
     "output_type": "display_data"
    }
   ],
   "source": [
    "#crear elipse inicial\n",
    "mielipse = elipse2(.5,1,(0.5,0.5),'green')\n",
    "mielipse.dibujar()"
   ]
  },
  {
   "cell_type": "code",
   "execution_count": 17,
   "id": "8ec00e59-09ac-426e-a2bd-017a50cf3834",
   "metadata": {},
   "outputs": [
    {
     "data": {
      "image/png": "[encoded data removed]",
      "text/plain": [
       "<Figure size 640x480 with 1 Axes>"
      ]
     },
     "metadata": {},
     "output_type": "display_data"
    }
   ],
   "source": [
    "#cambiar borde\n",
    "mielipse.set_border('red')\n",
    "#cambiar color\n",
    "mielipse.set_color('blue')\n",
    "#cambiar ancho\n",
    "mielipse.set_ancho(1)\n",
    "#cambiar altura\n",
    "mielipse.set_alto(0.5)\n",
    "mielipse.dibujar()"
   ]
  },
  {
   "cell_type": "markdown",
   "id": "f3dc675f-86d4-4611-a74f-9198eee375e9",
   "metadata": {},
   "source": [
    "# Bono"
   ]
  },
  {
   "cell_type": "markdown",
   "id": "9b2752eb-06b9-4a8e-8b61-ed8146cf2afd",
   "metadata": {},
   "source": [
    "#### MENOR DE DOS PARES: Escriba una función que devuelva el menor de dos números dados *si* ambos números son pares, pero devuelva el mayor si uno o ambos números son impares\n",
    "    lesser_of_two_evens(2,4) --> 2\n",
    "    lesser_of_two_evens(2,5) --> 5"
   ]
  },
  {
   "cell_type": "code",
   "execution_count": 19,
   "id": "591ab2fb-9a66-4d02-a6ca-22e7b37c504e",
   "metadata": {},
   "outputs": [
    {
     "name": "stdout",
     "output_type": "stream",
     "text": [
      "2\n"
     ]
    },
    {
     "data": {
      "text/plain": [
       "5"
      ]
     },
     "execution_count": 19,
     "metadata": {},
     "output_type": "execute_result"
    }
   ],
   "source": [
    "def lesser_of_two_evens(a,b):\n",
    "    #condicional para ver el is ahi impares\n",
    "    if a%2 != 0 or b%2 != 0:\n",
    "        if a<b:\n",
    "            return b\n",
    "    #ver cual es el menor\n",
    "    if a<b:\n",
    "        return a\n",
    "    return b\n",
    "        \n",
    "\n",
    "# Revisión\n",
    "print(lesser_of_two_evens(2,4))\n",
    "\n",
    "# Revisión\n",
    "lesser_of_two_evens(2,5)"
   ]
  },
  {
   "cell_type": "markdown",
   "id": "863de9f9-71cf-4846-9091-0742b2e7c955",
   "metadata": {},
   "source": [
    "#### GALLETAS DE ANIMALES: Escribir una función que toma una cadena de dos palabras y devuelve True si ambas palabras comienzan con la misma letra\n",
    "    animal_crackers('Ciudad Calor') --> True\n",
    "    animal_crackers('Lugar Frio') --> False"
   ]
  },
  {
   "cell_type": "code",
   "execution_count": 20,
   "id": "a2802e1d-8664-4d69-98e7-15e3a38558e0",
   "metadata": {},
   "outputs": [
    {
     "name": "stdout",
     "output_type": "stream",
     "text": [
      "True\n"
     ]
    },
    {
     "data": {
      "text/plain": [
       "False"
      ]
     },
     "execution_count": 20,
     "metadata": {},
     "output_type": "execute_result"
    }
   ],
   "source": [
    "def animal_crackers(text):\n",
    "    #dividir el string por el espacio\n",
    "    spl = text.split()\n",
    "    #comparar la primera letra\n",
    "    return spl[0][0]==spl[1][0]\n",
    "\n",
    "# Revisión\n",
    "print(animal_crackers('Ciudad Calor'))\n",
    "\n",
    "# Revisión\n",
    "animal_crackers('Lugar Frio')"
   ]
  },
  {
   "cell_type": "markdown",
   "id": "3e0bc7b3-89b6-46b8-b6bc-a23c99c157da",
   "metadata": {},
   "source": [
    "#### HACE VEINTE: dados dos enteros, devuelve True si la suma de los enteros es 20 o si uno de los enteros es 20. De lo contrario, devuelve False\n",
    "\n",
    "    makes_twenty(20,10) --> True\n",
    "    makes_twenty(12,8) --> True\n",
    "    makes_twenty(2,3) --> False"
   ]
  },
  {
   "cell_type": "code",
   "execution_count": 21,
   "id": "32015098-1daa-467c-b654-d71ecf7240a9",
   "metadata": {},
   "outputs": [
    {
     "name": "stdout",
     "output_type": "stream",
     "text": [
      "True\n",
      "False\n"
     ]
    },
    {
     "data": {
      "text/plain": [
       "True"
      ]
     },
     "execution_count": 21,
     "metadata": {},
     "output_type": "execute_result"
    }
   ],
   "source": [
    "def makes_twenty(n1,n2):\n",
    "    #ver si uno de los dos es 20\n",
    "    if (n1==20 or n2==20):\n",
    "        return True\n",
    "    # ver si la suma es 20\n",
    "    sum = n1+n2\n",
    "    if sum == 20:\n",
    "        return True\n",
    "    return False\n",
    "\n",
    "# Revisión\n",
    "print(makes_twenty(20,10))\n",
    "\n",
    "# Revisión\n",
    "print(makes_twenty(2,3))\n",
    "\n",
    "makes_twenty(12,8)"
   ]
  },
  {
   "cell_type": "markdown",
   "id": "b93e12ad-b256-495f-a7a0-7da643f07a60",
   "metadata": {},
   "source": [
    "## Nivel 1"
   ]
  },
  {
   "cell_type": "markdown",
   "id": "ba0193f9-6016-4243-a808-7a16d86f4d7f",
   "metadata": {},
   "source": [
    "#### MAYÚSCULAS: Escribir una función que haga mayúscula la primera y cuarta letra de una cadena de texto\n",
    "     \n",
    "    old_macdonald('macdonald') --> MacDonald\n",
    "    \n",
    "Note: `'macdonald'.capitalize()` returns `'Macdonald'`"
   ]
  },
  {
   "cell_type": "code",
   "execution_count": 22,
   "id": "a555255c-8ee4-4478-90d2-e5a3d0d1408f",
   "metadata": {},
   "outputs": [
    {
     "data": {
      "text/plain": [
       "'MacDonald'"
      ]
     },
     "execution_count": 22,
     "metadata": {},
     "output_type": "execute_result"
    }
   ],
   "source": [
    "def old_macdonald(name):\n",
    "    ret = ''\n",
    "    #construir string con pimer caracter en mayuscula y 4 caracter en mayuscual\n",
    "    ret = name[0].upper() + name[1:3]+name[3].upper()+name[4:]\n",
    "    return ret\n",
    "\n",
    "# Check\n",
    "old_macdonald('macdonald')"
   ]
  },
  {
   "cell_type": "markdown",
   "id": "f37a59e0-01c9-40cc-94f9-b1508b295fc5",
   "metadata": {},
   "source": [
    "#### REVERSA: Dada una oración, retornar la misma oración pero en reversa\n",
    "\n",
    "    master_yoda('I am home') --> 'home am I'\n",
    "    master_yoda('We are ready') --> 'ready are We'\n",
    "    \n",
    "Note: Revisar método .join()\n",
    "\n",
    "    >>> \"--\".join(['a','b','c'])\n",
    "    >>> 'a--b--c'\n",
    "\n",
    "Resultado de .join():\n",
    "\n",
    "    >>> \" \".join(['Hello','world'])\n",
    "    >>> \"Hello world\""
   ]
  },
  {
   "cell_type": "code",
   "execution_count": 23,
   "id": "501170a9-5032-4a56-9f06-2ad82c80e9b2",
   "metadata": {},
   "outputs": [
    {
     "name": "stdout",
     "output_type": "stream",
     "text": [
      "home am I\n",
      "ready are We\n"
     ]
    }
   ],
   "source": [
    "def master_yoda(text):\n",
    "    #partir la cadena por palabra\n",
    "    spl = text.split()\n",
    "    # juntarlas al reves\n",
    "    ret = \" \".join(spl[::-1])\n",
    "    return ret\n",
    "\n",
    "######\n",
    "\n",
    "# Revisión\n",
    "print(master_yoda('I am home'))\n",
    "\n",
    "# Revisión\n",
    "print(master_yoda('We are ready'))"
   ]
  },
  {
   "cell_type": "markdown",
   "id": "ce2a8e5d-c23a-4e95-a78e-f6b8a2594da2",
   "metadata": {},
   "source": [
    "## Nivel 2"
   ]
  },
  {
   "cell_type": "markdown",
   "id": "5670b087-f9cb-4f72-9099-b35930c9d3b5",
   "metadata": {},
   "source": [
    "#### PROBLEMA 33: \n",
    "\n",
    "Dada una lista de enteros, retornar True si el arreglo tinene un  3  seguido por un  3 .\n",
    "\n",
    "    has_33([1, 3, 3]) → True\n",
    "    has_33([1, 3, 1, 3]) → False\n",
    "    has_33([3, 1, 3]) → False"
   ]
  },
  {
   "cell_type": "code",
   "execution_count": 24,
   "id": "c74d016d-0237-4f57-a949-60843ec4efcc",
   "metadata": {},
   "outputs": [
    {
     "name": "stdout",
     "output_type": "stream",
     "text": [
      "True\n",
      "False\n",
      "True\n"
     ]
    },
    {
     "data": {
      "text/plain": [
       "False"
      ]
     },
     "execution_count": 24,
     "metadata": {},
     "output_type": "execute_result"
    }
   ],
   "source": [
    "def has_33(nums):\n",
    "    for i,num in enumerate(nums):\n",
    "        next = 1+i\n",
    "        # ver si el numero actual es igual al siguiente 'next'\n",
    "        if next< len(nums)and num == nums[1+i]:\n",
    "            return True\n",
    "    return False\n",
    "        \n",
    "\n",
    "# Revisión\n",
    "print(has_33([1, 3, 3]))\n",
    "\n",
    "# Revisión\n",
    "print(has_33([1, 3, 1, 3]))\n",
    "\n",
    "print(has_33([1, 3, 1, 3,3]))\n",
    "# Revisión\n",
    "has_33([3, 1, 3])"
   ]
  },
  {
   "cell_type": "markdown",
   "id": "6b0ad4b7-d611-4131-b6a0-db0c20ae5318",
   "metadata": {},
   "source": [
    "#### REPLICADOR: Dada una cadena, devuelve una cadena donde por cada carácter en el original hay tres caracteres REPETIDOS\n",
    "    paper_doll('Hello') --> 'HHHeeellllllooo'\n",
    "    paper_doll('Mississippi') --> 'MMMiiissssssiiippppppiii'"
   ]
  },
  {
   "cell_type": "code",
   "execution_count": 25,
   "id": "ee6e3394-80ad-4130-b0e1-776ae7621c34",
   "metadata": {},
   "outputs": [
    {
     "name": "stdout",
     "output_type": "stream",
     "text": [
      "HHHeeellllllooo\n"
     ]
    },
    {
     "data": {
      "text/plain": [
       "'MMMiiissssssiiissssssiiippppppiii'"
      ]
     },
     "execution_count": 25,
     "metadata": {},
     "output_type": "execute_result"
    }
   ],
   "source": [
    "def paper_doll(text):\n",
    "    ret = ''\n",
    "    # por cada letra repetirla 3 veces\n",
    "    for t in text:\n",
    "        ret += t*3\n",
    "    return ret\n",
    "# Check\n",
    "print(paper_doll('Hello'))\n",
    "\n",
    "# Check\n",
    "paper_doll('Mississippi')"
   ]
  },
  {
   "cell_type": "markdown",
   "id": "d1436a6e-e95a-4eb9-8618-b28b5ad9cbb3",
   "metadata": {},
   "source": [
    "#### BLACKJACK: Dados tres enteros entre 1 y 11, si su suma es menor o igual a 21, devuelve su suma. Si su suma excede 21 *y* hay un once, reduce la suma total en 10. Finalmente, si la suma (incluso después del ajuste) excede 21, devuelve 'BUST'\n",
    "    blackjack(5,6,7) --> 18\n",
    "    blackjack(9,9,9) --> 'BUST'\n",
    "    blackjack(9,9,11) --> 19"
   ]
  },
  {
   "cell_type": "code",
   "execution_count": 93,
   "id": "5efd2886-3006-483a-883c-ca33ed2833f3",
   "metadata": {},
   "outputs": [
    {
     "name": "stdout",
     "output_type": "stream",
     "text": [
      "18\n",
      "BUST\n"
     ]
    },
    {
     "data": {
      "text/plain": [
       "19"
      ]
     },
     "execution_count": 93,
     "metadata": {},
     "output_type": "execute_result"
    }
   ],
   "source": [
    "def blackjack(a,b,c):\n",
    "    sum = a+b+c\n",
    "    if sum <= 21:\n",
    "        return sum\n",
    "    if sum >21 and a == 11 or b ==11 or c ==11:\n",
    "        sum -= 10\n",
    "    if sum > 21:\n",
    "        return 'BUST'\n",
    "    return sum\n",
    "    \n",
    "\n",
    "# Revisión\n",
    "print(blackjack(5,6,7))\n",
    "\n",
    "# Revisión\n",
    "print(blackjack(9,9,9))\n",
    "\n",
    "# Revisión\n",
    "blackjack(9,9,11)"
   ]
  },
  {
   "cell_type": "code",
   "execution_count": null,
   "id": "fb732036-8caa-417e-bd10-d5eb2b7c5cd7",
   "metadata": {},
   "outputs": [],
   "source": []
  }
 ],
 "metadata": {
  "kernelspec": {
   "display_name": "Python 3 (ipykernel)",
   "language": "python",
   "name": "python3"
  },
  "language_info": {
   "codemirror_mode": {
    "name": "ipython",
    "version": 3
   },
   "file_extension": ".py",
   "mimetype": "text/x-python",
   "name": "python",
   "nbconvert_exporter": "python",
   "pygments_lexer": "ipython3",
   "version": "3.10.10"
  }
 },
 "nbformat": 4,
 "nbformat_minor": 5
}
