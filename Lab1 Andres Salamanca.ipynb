{
 "cells": [
  {
   "cell_type": "markdown",
   "id": "760bf2a5-5bbb-4364-a78a-d0872ca674d8",
   "metadata": {},
   "source": [
    "# Cadenas "
   ]
  },
  {
   "cell_type": "markdown",
   "id": "6ec739b0-266d-48a5-a864-e78d706dd0e7",
   "metadata": {},
   "source": [
    "**pregunta1** ¿Cual es el valor de la variable <code>A</code> después de ejecutar el siguiente código?"
   ]
  },
  {
   "cell_type": "code",
   "execution_count": 1,
   "id": "adb78552-c454-4729-a46a-a14d56c5de9d",
   "metadata": {},
   "outputs": [],
   "source": [
    "# Escribe abajo tu código y presiona Shift+Enter para ejecutarlo\n",
    "\n",
    "A = \"1\""
   ]
  },
  {
   "cell_type": "markdown",
   "id": "52fdd9aa-5655-4f4b-a180-93e26e33c41c",
   "metadata": {},
   "source": [
    "<code>Respuesta:</code> El valor de la variable A es de \"1\""
   ]
  },
  {
   "cell_type": "markdown",
   "id": "e81d09a6-ccc2-48c9-bae0-b93dfaf060d9",
   "metadata": {},
   "source": [
    "**pregunta2** ¿Cual es el valor de la variable <code>B</code> después de ejecutar el siguiente código?"
   ]
  },
  {
   "cell_type": "code",
   "execution_count": 2,
   "id": "609a3862-72b5-48ee-b9f5-c720786feb57",
   "metadata": {},
   "outputs": [],
   "source": [
    "# Escribe abajo tu código y presiona Shift+Enter para ejecutarlo\n",
    "\n",
    "B = \"2\""
   ]
  },
  {
   "cell_type": "markdown",
   "id": "0a1a7eb8-56d1-4f68-a77f-5d4135003bdc",
   "metadata": {},
   "source": [
    "<code>Respuesta:</code>"
   ]
  },
  {
   "cell_type": "markdown",
   "id": "8cfba5f2-3469-46f5-9a88-0d4cf93d68a7",
   "metadata": {},
   "source": [
    "El valor de la variable B es de \"2\""
   ]
  },
  {
   "cell_type": "markdown",
   "id": "9c65bd17-1214-458d-9bae-b3e8f1bea036",
   "metadata": {},
   "source": [
    "**pregunta3** ¿Cual es el valor de la variable <code>C</code> después de ejecutar el siguiente código?"
   ]
  },
  {
   "cell_type": "code",
   "execution_count": 4,
   "id": "b7b8dbac-dcec-44fe-a329-e5244d4157f5",
   "metadata": {},
   "outputs": [],
   "source": [
    "# Escribe abajo tu código y presiona Shift+Enter para ejecutarlo\n",
    "\n",
    "C = A + B"
   ]
  },
  {
   "cell_type": "markdown",
   "id": "8df645b8-24dc-4a61-b4ad-79f5432c53fa",
   "metadata": {},
   "source": [
    "<code>Respuesta:</code>"
   ]
  },
  {
   "cell_type": "markdown",
   "id": "56c77dce-9a62-40d3-b818-26882e77928d",
   "metadata": {},
   "source": [
    "El valor de la variable C es de \"12\""
   ]
  },
  {
   "cell_type": "markdown",
   "id": "04180e6a-9401-425f-b9c9-16829ca99677",
   "metadata": {},
   "source": [
    "**pregunta4** En la variable <code>D</code> haz uso del slicing para imprimir solo los primeros tres elementos:"
   ]
  },
  {
   "cell_type": "code",
   "execution_count": 5,
   "id": "4e4ca763-55f6-4052-8147-1ccf75c25ce1",
   "metadata": {},
   "outputs": [],
   "source": [
    "# Escribe abajo tu código y presiona Shift+Enter para ejecutarlo\n",
    "\n",
    "D = \"ABCDEFG\""
   ]
  },
  {
   "cell_type": "markdown",
   "id": "c9c45f2f-2156-48ea-9a0d-7fa8f0608186",
   "metadata": {},
   "source": [
    "<code>Respuesta:</code>"
   ]
  },
  {
   "cell_type": "code",
   "execution_count": 6,
   "id": "f44e2faa-af37-4719-b274-889c783a2c46",
   "metadata": {},
   "outputs": [
    {
     "data": {
      "text/plain": [
       "'ABC'"
      ]
     },
     "execution_count": 6,
     "metadata": {},
     "output_type": "execute_result"
    }
   ],
   "source": [
    "D[:3]"
   ]
  },
  {
   "cell_type": "markdown",
   "id": "e4f6e49a-7c0b-4671-b212-34a6080b3c13",
   "metadata": {},
   "source": [
    "**pregunta 5** Usa un valor de stride de 2 para imprimir cada segundo elemento de la cadena <code>E</code>:"
   ]
  },
  {
   "cell_type": "code",
   "execution_count": 7,
   "id": "97592b70-b276-4ce9-be3d-93fbc36f84ec",
   "metadata": {},
   "outputs": [],
   "source": [
    "# Escribe abajo tu código y presiona Shift+Enter para ejecutarlo\n",
    "\n",
    "E = 'clocrkr1e1c1t'"
   ]
  },
  {
   "cell_type": "markdown",
   "id": "de9199a3-1078-4b91-8fbe-f3c41a80ca52",
   "metadata": {},
   "source": [
    "<code>Respuesta:</code>"
   ]
  },
  {
   "cell_type": "code",
   "execution_count": 8,
   "id": "38d9d11b-7d39-407f-a0ee-91da2ec1b8f7",
   "metadata": {},
   "outputs": [
    {
     "data": {
      "text/plain": [
       "'correct'"
      ]
     },
     "execution_count": 8,
     "metadata": {},
     "output_type": "execute_result"
    }
   ],
   "source": [
    "E[::2]"
   ]
  },
  {
   "cell_type": "markdown",
   "id": "a204cb0b-4863-4e5b-a811-f6ef16c76216",
   "metadata": {},
   "source": [
    "**pregunta 6** Imprime una barra invertida:"
   ]
  },
  {
   "cell_type": "markdown",
   "id": "2c4d82df-3bbb-43ad-a85e-fb0b9e688fdf",
   "metadata": {},
   "source": [
    "<code>Respuesta:</code>"
   ]
  },
  {
   "cell_type": "code",
   "execution_count": 9,
   "id": "bdaf15ee-c9f0-4f48-9397-2a42a2b6cf22",
   "metadata": {},
   "outputs": [
    {
     "name": "stdout",
     "output_type": "stream",
     "text": [
      "\\\n"
     ]
    }
   ],
   "source": [
    "print('\\\\')"
   ]
  },
  {
   "cell_type": "markdown",
   "id": "4bf5bf62-9da9-4238-b169-5df68ecaf689",
   "metadata": {},
   "source": [
    "**pregunta 7**Convierte el mayúsculas el contenido de la variable <code>F</code>:"
   ]
  },
  {
   "cell_type": "code",
   "execution_count": 10,
   "id": "d5c12f75-c1fa-49c1-817a-0215cdedd4b6",
   "metadata": {},
   "outputs": [],
   "source": [
    "# Escribe abajo tu código y presiona Shift+Enter para ejecutarlo\n",
    "\n",
    "F = \"You are wrong\""
   ]
  },
  {
   "cell_type": "markdown",
   "id": "276ff973-4873-4d00-8ceb-eaa53548ee83",
   "metadata": {},
   "source": [
    "<code>Respuesta:</code>"
   ]
  },
  {
   "cell_type": "code",
   "execution_count": 13,
   "id": "6cf06dbf-c293-443d-9999-66d037231456",
   "metadata": {},
   "outputs": [
    {
     "data": {
      "text/plain": [
       "'YOU ARE WRONG'"
      ]
     },
     "execution_count": 13,
     "metadata": {},
     "output_type": "execute_result"
    }
   ],
   "source": [
    "F.upper()"
   ]
  },
  {
   "cell_type": "markdown",
   "id": "f05f16c9-4fcc-4645-bf21-590fe6f929c0",
   "metadata": {},
   "source": [
    "**pregunta 8** En la variable <code>G</code>, encuentra el primer índice de la sub-cadena <code>snow</code>:"
   ]
  },
  {
   "cell_type": "code",
   "execution_count": 15,
   "id": "b43471d8-7d52-4547-bdd2-910f895fe8a5",
   "metadata": {},
   "outputs": [],
   "source": [
    "# Escribe abajo tu código y presiona Shift+Enter para ejecutarlo\n",
    "\n",
    "G = \"Mary had a little lamb Little lamb, little lamb Mary had a little lamb \\\n",
    "Its fleece was white as snow And everywhere that Mary went Mary went, Mary went \\\n",
    "Everywhere that Mary went The lamb was sure to go\""
   ]
  },
  {
   "cell_type": "markdown",
   "id": "eb6fd5c9-b099-403b-b8df-623f41b1e13f",
   "metadata": {},
   "source": [
    "<code>Respuesta:</code>"
   ]
  },
  {
   "cell_type": "code",
   "execution_count": 16,
   "id": "167eb7a2-647b-496a-94ea-a08e4ce59ae4",
   "metadata": {},
   "outputs": [
    {
     "data": {
      "text/plain": [
       "95"
      ]
     },
     "execution_count": 16,
     "metadata": {},
     "output_type": "execute_result"
    }
   ],
   "source": [
    "G.find(\"snow\")"
   ]
  },
  {
   "cell_type": "markdown",
   "id": "65c89096-9efe-47f6-a49f-3e909fb5a748",
   "metadata": {},
   "source": [
    "**pregunta 9**En la variable <code>G</code>, reemplaza la sub-cadena <code>Mary</code> con <code>Bob</code>:"
   ]
  },
  {
   "cell_type": "markdown",
   "id": "151a792f-22cf-4a7b-a3a0-f4fb841e6929",
   "metadata": {},
   "source": [
    "<code>Respuesta:</code>"
   ]
  },
  {
   "cell_type": "code",
   "execution_count": 19,
   "id": "09319e2a-26d2-4c5a-a7da-6c69d8c52687",
   "metadata": {},
   "outputs": [
    {
     "data": {
      "text/plain": [
       "'Bob had a little lamb Little lamb, little lamb Bob had a little lamb Its fleece was white as snow And everywhere that Bob went Bob went, Bob went Everywhere that Bob went The lamb was sure to go'"
      ]
     },
     "execution_count": 19,
     "metadata": {},
     "output_type": "execute_result"
    }
   ],
   "source": [
    "G.replace('Mary',\"Bob\")"
   ]
  },
  {
   "cell_type": "markdown",
   "id": "39ce2355-7a58-4280-9069-25b1795e1573",
   "metadata": {},
   "source": [
    "# Tuplas"
   ]
  },
  {
   "cell_type": "markdown",
   "id": "15949752-2bf3-455d-9645-7b5a1f31d2eb",
   "metadata": {},
   "source": [
    "**Considérese la siguiente tupla:**"
   ]
  },
  {
   "cell_type": "code",
   "execution_count": 20,
   "id": "edadf69f-d3e2-466d-8ed0-f9f622a67f9b",
   "metadata": {},
   "outputs": [
    {
     "data": {
      "text/plain": [
       "('pop',\n",
       " 'rock',\n",
       " 'soul',\n",
       " 'hard rock',\n",
       " 'soft rock',\n",
       " 'R&B',\n",
       " 'progressive rock',\n",
       " 'disco')"
      ]
     },
     "execution_count": 20,
     "metadata": {},
     "output_type": "execute_result"
    }
   ],
   "source": [
    "# Tupla de ejemplo\n",
    "\n",
    "genres_tuple = (\"pop\", \"rock\", \"soul\", \"hard rock\", \"soft rock\", \\\n",
    "                \"R&B\", \"progressive rock\", \"disco\") \n",
    "genres_tuple"
   ]
  },
  {
   "cell_type": "markdown",
   "id": "f08b2e9f-e4b6-443e-8807-9227954c368e",
   "metadata": {},
   "source": [
    "Encontrar la longitud de la tupla, <code>genres_tuple</code>:"
   ]
  },
  {
   "cell_type": "code",
   "execution_count": 21,
   "id": "4c9fa02d-d469-4d09-8554-b164cb2bf790",
   "metadata": {},
   "outputs": [
    {
     "data": {
      "text/plain": [
       "8"
      ]
     },
     "execution_count": 21,
     "metadata": {},
     "output_type": "execute_result"
    }
   ],
   "source": [
    "len(genres_tuple)"
   ]
  },
  {
   "cell_type": "markdown",
   "id": "2b9b38af-d99d-4241-bf6c-219f0da0af51",
   "metadata": {},
   "source": [
    "**Accede al elemento en el índice 3:**"
   ]
  },
  {
   "cell_type": "code",
   "execution_count": 22,
   "id": "2a036d0a-cb75-4ef9-9687-fbb3cdbf1c38",
   "metadata": {},
   "outputs": [
    {
     "data": {
      "text/plain": [
       "'hard rock'"
      ]
     },
     "execution_count": 22,
     "metadata": {},
     "output_type": "execute_result"
    }
   ],
   "source": [
    "genres_tuple[3]"
   ]
  },
  {
   "cell_type": "markdown",
   "id": "dda70118-16b3-484e-ac9c-254874af132f",
   "metadata": {},
   "source": [
    "**Utiliza el slicing para obtener los índices 3, 4 y 5:**"
   ]
  },
  {
   "cell_type": "code",
   "execution_count": 26,
   "id": "a6f70c3d-dc07-44ea-bcd9-4a3d0c67f1b4",
   "metadata": {},
   "outputs": [
    {
     "data": {
      "text/plain": [
       "('hard rock', 'soft rock', 'R&B')"
      ]
     },
     "execution_count": 26,
     "metadata": {},
     "output_type": "execute_result"
    }
   ],
   "source": [
    "genres_tuple[3:6]"
   ]
  },
  {
   "cell_type": "markdown",
   "id": "6b5cd45a-637c-4a60-8695-0dfbd5d2c0f3",
   "metadata": {},
   "source": [
    "**Encuentra los primeros dos elementos de la tupla <code>genres_tuple</code>:**"
   ]
  },
  {
   "cell_type": "code",
   "execution_count": 28,
   "id": "befe746b-4638-4653-9d48-b0abe11ee0ef",
   "metadata": {},
   "outputs": [
    {
     "data": {
      "text/plain": [
       "('pop', 'rock')"
      ]
     },
     "execution_count": 28,
     "metadata": {},
     "output_type": "execute_result"
    }
   ],
   "source": [
    "genres_tuple[:2]"
   ]
  },
  {
   "cell_type": "markdown",
   "id": "79cf1b2f-6856-4aa1-a223-78b3b704c862",
   "metadata": {},
   "source": [
    "**Encuentra el primer índice de <code>\"disco\"</code>:**"
   ]
  },
  {
   "cell_type": "code",
   "execution_count": 30,
   "id": "c8f33061-f0b1-445f-91f0-ac77ecef8743",
   "metadata": {},
   "outputs": [
    {
     "data": {
      "text/plain": [
       "7"
      ]
     },
     "execution_count": 30,
     "metadata": {},
     "output_type": "execute_result"
    }
   ],
   "source": [
    "genres_tuple.index('disco')"
   ]
  },
  {
   "cell_type": "markdown",
   "id": "6ddf49c7-d266-4051-8ebc-7da30eec000e",
   "metadata": {},
   "source": [
    "**Genera una lista ordenada desde la tupla <code>C_tuple=(-5, 1, -3)</code>:**"
   ]
  },
  {
   "cell_type": "code",
   "execution_count": 32,
   "id": "5100a58a-739f-41e0-bcef-20ae049c94c7",
   "metadata": {},
   "outputs": [],
   "source": [
    "C_tuple=(-5, 1, -3)"
   ]
  },
  {
   "cell_type": "code",
   "execution_count": 34,
   "id": "7c5d9eaf-689e-44bb-96ec-b643d59adb36",
   "metadata": {},
   "outputs": [
    {
     "data": {
      "text/plain": [
       "[-5, -3, 1]"
      ]
     },
     "execution_count": 34,
     "metadata": {},
     "output_type": "execute_result"
    }
   ],
   "source": [
    "sort = sorted(C_tuple)\n",
    "sort"
   ]
  },
  {
   "cell_type": "markdown",
   "id": "60f5151c-b8e8-4da2-9369-8f81b73e430b",
   "metadata": {},
   "source": [
    "# Listas"
   ]
  },
  {
   "cell_type": "markdown",
   "id": "32ff3c6e-9232-4f8c-8cb4-db30da225c1a",
   "metadata": {},
   "source": [
    "**Crea una lista <code>a_lit</code> con los siguientes elementos <code>1</code>, <code>hello</code>, <code>[1,2,3]</code> y <code>True</code>.**"
   ]
  },
  {
   "cell_type": "code",
   "execution_count": 37,
   "id": "83946223-0adc-4487-85d5-359ea9705e21",
   "metadata": {},
   "outputs": [
    {
     "data": {
      "text/plain": [
       "[1, 'hello', [1, 2, 3], True]"
      ]
     },
     "execution_count": 37,
     "metadata": {},
     "output_type": "execute_result"
    }
   ],
   "source": [
    "a_list = [1,'hello',[1,2,3],True]\n",
    "a_list"
   ]
  },
  {
   "cell_type": "markdown",
   "id": "9453e2a1-644c-4825-8ad7-c676bddbb0a1",
   "metadata": {},
   "source": [
    "**Encuentra el valor almacenado en el índice 1 de <code>a_list</code>.**"
   ]
  },
  {
   "cell_type": "code",
   "execution_count": 38,
   "id": "d56f8376-0971-4e32-a4ce-65066ded8cfc",
   "metadata": {},
   "outputs": [
    {
     "data": {
      "text/plain": [
       "'hello'"
      ]
     },
     "execution_count": 38,
     "metadata": {},
     "output_type": "execute_result"
    }
   ],
   "source": [
    "a_list[1]"
   ]
  },
  {
   "cell_type": "markdown",
   "id": "e1d6a2f1-39b8-4ec5-888b-2bc534f44aca",
   "metadata": {},
   "source": [
    "**Obtén el elemento almacenado en el índice 1, 2 y 3 de <code>a_list</code>.**"
   ]
  },
  {
   "cell_type": "code",
   "execution_count": 39,
   "id": "ab06bb19-f56c-4649-8472-f7aa53ecdb23",
   "metadata": {},
   "outputs": [
    {
     "data": {
      "text/plain": [
       "['hello', [1, 2, 3], True]"
      ]
     },
     "execution_count": 39,
     "metadata": {},
     "output_type": "execute_result"
    }
   ],
   "source": [
    "a_list[1:4]"
   ]
  },
  {
   "cell_type": "markdown",
   "id": "3b0c44d8-6f5e-486d-94d8-767d40c44ef5",
   "metadata": {},
   "source": [
    "**Concatena las siguientes listas <code>A = [1, 'a']</code> y <code>B = [2, 1, 'd']</code>:**"
   ]
  },
  {
   "cell_type": "code",
   "execution_count": 44,
   "id": "2c7f31ab-20ff-44f6-b863-9aa780e35725",
   "metadata": {},
   "outputs": [
    {
     "data": {
      "text/plain": [
       "[1, 'a', 2, 1, 'd']"
      ]
     },
     "execution_count": 44,
     "metadata": {},
     "output_type": "execute_result"
    }
   ],
   "source": [
    "A = [1,'a']\n",
    "B = [2,1,'d']\n",
    "A+B\n"
   ]
  },
  {
   "cell_type": "markdown",
   "id": "d8a5d6bb-c55c-4fb0-af32-9d80f3d6d6a4",
   "metadata": {},
   "source": [
    "# Conjuntos"
   ]
  },
  {
   "cell_type": "markdown",
   "id": "9bdb7c41-2e37-44ed-a60b-de8da602e000",
   "metadata": {},
   "source": [
    "**Transformar la lista <code>['rap','house','electronic music', 'rap']</code> en un conjunto:**"
   ]
  },
  {
   "cell_type": "code",
   "execution_count": 45,
   "id": "9d1e71d1-851c-4099-ad40-8d57ab3c42a5",
   "metadata": {},
   "outputs": [
    {
     "data": {
      "text/plain": [
       "{'electronic music', 'house', 'rap'}"
      ]
     },
     "execution_count": 45,
     "metadata": {},
     "output_type": "execute_result"
    }
   ],
   "source": [
    "set(['rap','house','electronic music', 'rap'])"
   ]
  },
  {
   "cell_type": "markdown",
   "id": "5c2d4a2e-5a8e-4d72-ad0a-a6717e84fcdb",
   "metadata": {},
   "source": [
    "**Considera que la lista <code>A = [1, 2, 2, 1]</code> y el conjunto <code>B = set([1, 2, 2, 1])</code> suman <code>sum(A) = sum(B)</code>**"
   ]
  },
  {
   "cell_type": "code",
   "execution_count": 46,
   "id": "2ea26b97-3032-4d48-81cc-2e648596f865",
   "metadata": {},
   "outputs": [],
   "source": [
    "A = [1, 2, 2, 1]\n",
    "B = set([1, 2, 2, 1])"
   ]
  },
  {
   "cell_type": "code",
   "execution_count": 47,
   "id": "efd9a185-df59-48e4-81e7-492d309ae2c7",
   "metadata": {},
   "outputs": [
    {
     "name": "stdout",
     "output_type": "stream",
     "text": [
      "6\n",
      "3\n"
     ]
    }
   ],
   "source": [
    "## las sumas no son iguales\n",
    "print(sum(A))\n",
    "print(sum(B))"
   ]
  },
  {
   "cell_type": "markdown",
   "id": "6a94e5b0-d239-41b2-845d-b6a1405fd0dc",
   "metadata": {},
   "source": [
    "**Crea un nuevo conjunto <code>album_set3</code> que sea la unión de <code>album_set1</code> y <code>album_set2</code>:**"
   ]
  },
  {
   "cell_type": "code",
   "execution_count": 49,
   "id": "920d57c0-ac8b-4123-b964-8d35c94d7b4d",
   "metadata": {},
   "outputs": [
    {
     "data": {
      "text/plain": [
       "{'AC/DC', 'Back in Black', 'The Dark Side of the Moon', 'Thriller'}"
      ]
     },
     "execution_count": 49,
     "metadata": {},
     "output_type": "execute_result"
    }
   ],
   "source": [
    "# Escribe abajo tu código y presiona Shift+Enter para ejecutarlo\n",
    "\n",
    "album_set1 = set([\"Thriller\", 'AC/DC', 'Back in Black'])\n",
    "album_set2 = set([ \"AC/DC\", \"Back in Black\", \"The Dark Side of the Moon\"])\n",
    "\n",
    "album_set3 = album_set1.union(album_set2)\n",
    "album_set3"
   ]
  },
  {
   "cell_type": "markdown",
   "id": "1e667210-c1b8-4e0e-9974-cb0fa529ab2c",
   "metadata": {},
   "source": [
    "**Averigua si <code>album_set1</code> es un subconjunto de <code>album_set3</code>:**"
   ]
  },
  {
   "cell_type": "code",
   "execution_count": 50,
   "id": "150f9026-8a87-4d98-b2f3-ba86989bbe7d",
   "metadata": {},
   "outputs": [
    {
     "data": {
      "text/plain": [
       "True"
      ]
     },
     "execution_count": 50,
     "metadata": {},
     "output_type": "execute_result"
    }
   ],
   "source": [
    "album_set1.issubset(album_set3)"
   ]
  },
  {
   "cell_type": "markdown",
   "id": "478ec9e8-68cb-4d33-a7a0-0bd389c6c4e3",
   "metadata": {},
   "source": [
    "# Diccionarios"
   ]
  },
  {
   "cell_type": "code",
   "execution_count": 51,
   "id": "4bfcf79f-bd72-4b8f-b90e-70aecfc0e119",
   "metadata": {},
   "outputs": [
    {
     "data": {
      "text/plain": [
       "{'The Bodyguard': '1992', 'Saturday Night Fever': '1977'}"
      ]
     },
     "execution_count": 51,
     "metadata": {},
     "output_type": "execute_result"
    }
   ],
   "source": [
    "# Pregunta - Diccionario de ejemplo\n",
    "\n",
    "soundtrack_dic = {\"The Bodyguard\":\"1992\", \"Saturday Night Fever\":\"1977\"}\n",
    "soundtrack_dic "
   ]
  },
  {
   "cell_type": "markdown",
   "id": "fa47b9ee-0026-4578-88b2-179e848b297f",
   "metadata": {},
   "source": [
    "**a) En el diccionario <code>soundtrack_dict</code>. ¿Cuáles son las llaves?**"
   ]
  },
  {
   "cell_type": "code",
   "execution_count": 53,
   "id": "d1526603-0f99-4c0a-94da-4fa27501046c",
   "metadata": {},
   "outputs": [
    {
     "name": "stdout",
     "output_type": "stream",
     "text": [
      "las lalves son:dict_keys(['The Bodyguard', 'Saturday Night Fever']) \n"
     ]
    }
   ],
   "source": [
    "print(f'las lalves son:{soundtrack_dic.keys()} ')"
   ]
  },
  {
   "cell_type": "markdown",
   "id": "53647d9d-76a4-489f-b99b-4ccdbc0641fa",
   "metadata": {},
   "source": [
    "**b) En el diccionario <code>soundtrack_dict</code>. ¿Cuáles son los valores?**"
   ]
  },
  {
   "cell_type": "code",
   "execution_count": 54,
   "id": "ff5fd19f-b464-4d1c-9ca4-4615848761e6",
   "metadata": {},
   "outputs": [
    {
     "name": "stdout",
     "output_type": "stream",
     "text": [
      "los valores son dict_values(['1992', '1977'])\n"
     ]
    }
   ],
   "source": [
    "print(f'los valores son {soundtrack_dic.values()}')"
   ]
  },
  {
   "cell_type": "markdown",
   "id": "41cc943c-5e49-4d53-bf42-427294b177c0",
   "metadata": {},
   "source": [
    "Los discos <b>Back in Black</b>, <b>The Bodyguard</b> y <b>Thriller</b> poseen el siguiente record de ventas en millones, 50, 50 y 65 respectivamente:"
   ]
  },
  {
   "cell_type": "markdown",
   "id": "40c329e8-8a32-4884-aca8-e2da72e79ae3",
   "metadata": {},
   "source": [
    "**a) Crea un diccionario <code>album_sales_dict</code> donde las llaves sean el nombre del disco y los valores la cantidad de ventas en millones.**"
   ]
  },
  {
   "cell_type": "code",
   "execution_count": 58,
   "id": "d0b6151c-65ee-441f-babb-710b1d3da15b",
   "metadata": {},
   "outputs": [
    {
     "data": {
      "text/plain": [
       "{'Back in Black': 50, 'The Bodyguard': 50, 'Thriller': 65}"
      ]
     },
     "execution_count": 58,
     "metadata": {},
     "output_type": "execute_result"
    }
   ],
   "source": [
    "album_sales_dict = {'Back in Black':50,'The Bodyguard':50,'Thriller':65}\n",
    "album_sales_dict"
   ]
  },
  {
   "cell_type": "markdown",
   "id": "18a7dff2-7e12-401f-9345-0cd12a46f4ae",
   "metadata": {},
   "source": [
    "**b) Usa el diccionario para encontrar las ventas totales de <b>Thriller</b>:**"
   ]
  },
  {
   "cell_type": "code",
   "execution_count": 59,
   "id": "0762791f-b7d7-4024-a92f-6d63554277e5",
   "metadata": {},
   "outputs": [
    {
     "data": {
      "text/plain": [
       "65"
      ]
     },
     "execution_count": 59,
     "metadata": {},
     "output_type": "execute_result"
    }
   ],
   "source": [
    "album_sales_dict['Thriller']"
   ]
  },
  {
   "cell_type": "markdown",
   "id": "b3d89f38-c2cb-4ea8-94fe-39c98d2d263a",
   "metadata": {},
   "source": [
    "**c) Encuentra los nombres de los discos dentro del diccionario mediante el método <code>keys</code>:**"
   ]
  },
  {
   "cell_type": "code",
   "execution_count": 60,
   "id": "e33b3611-3feb-43ac-a947-67b19587d21a",
   "metadata": {},
   "outputs": [
    {
     "data": {
      "text/plain": [
       "dict_keys(['Back in Black', 'The Bodyguard', 'Thriller'])"
      ]
     },
     "execution_count": 60,
     "metadata": {},
     "output_type": "execute_result"
    }
   ],
   "source": [
    "album_sales_dict.keys()"
   ]
  },
  {
   "cell_type": "markdown",
   "id": "0068e971-7fbd-4003-8903-e9aa9e007cf8",
   "metadata": {},
   "source": [
    "**d) Encuentra los records de ventas dentro del diccionario mediante el método <code>values</code>:**"
   ]
  },
  {
   "cell_type": "code",
   "execution_count": 61,
   "id": "24ea8063-efee-4d67-924b-ef4717d79b9c",
   "metadata": {},
   "outputs": [
    {
     "data": {
      "text/plain": [
       "dict_values([50, 50, 65])"
      ]
     },
     "execution_count": 61,
     "metadata": {},
     "output_type": "execute_result"
    }
   ],
   "source": [
    "album_sales_dict.values()"
   ]
  },
  {
   "cell_type": "code",
   "execution_count": null,
   "id": "a1a08116-dddd-4343-8543-0ae41f862b18",
   "metadata": {},
   "outputs": [],
   "source": []
  }
 ],
 "metadata": {
  "kernelspec": {
   "display_name": "Python 3 (ipykernel)",
   "language": "python",
   "name": "python3"
  },
  "language_info": {
   "codemirror_mode": {
    "name": "ipython",
    "version": 3
   },
   "file_extension": ".py",
   "mimetype": "text/x-python",
   "name": "python",
   "nbconvert_exporter": "python",
   "pygments_lexer": "ipython3",
   "version": "3.10.10"
  }
 },
 "nbformat": 4,
 "nbformat_minor": 5
}
